{
 "cells": [
  {
   "cell_type": "markdown",
   "id": "ddb1ad9d-5804-4ca4-8ba2-5edf7332d3f7",
   "metadata": {},
   "source": [
    "FUNCTION"
   ]
  },
  {
   "cell_type": "code",
   "execution_count": 5,
   "id": "02c9f989-d3d6-4182-9083-fe6c23708e8b",
   "metadata": {},
   "outputs": [
    {
     "name": "stdout",
     "output_type": "stream",
     "text": [
      "The sum is: 8\n"
     ]
    }
   ],
   "source": [
    "#write a function add_numbers that takes two numbers as aruguments and returns their sum.\n",
    "\n",
    "def add_numbers(num1, num2):\n",
    "    \"\"\"Function to add two numbers.\"\"\"\n",
    "    return num1 + num2\n",
    "\n",
    "#Example,\n",
    "result = add_numbers(5, 3)\n",
    "print(\"The sum is:\", result)\n"
   ]
  },
  {
   "cell_type": "code",
   "execution_count": 6,
   "id": "f66c66b3-f6a7-43b3-99c8-ecf014d79762",
   "metadata": {},
   "outputs": [
    {
     "name": "stdout",
     "output_type": "stream",
     "text": [
      "The product is: 15\n"
     ]
    }
   ],
   "source": [
    "#write a function mutiply_numbers that takes two numbers as aruguments and returns their product.\n",
    "\n",
    "\n",
    "def multiply_numbers(num1, num2):\n",
    "    \"\"\"Function to multiply two numbers.\"\"\"\n",
    "    return num1 * num2\n",
    "\n",
    "# Example,,\n",
    "result = multiply_numbers(5, 3)\n",
    "print(\"The product is:\", result)\n"
   ]
  },
  {
   "cell_type": "code",
   "execution_count": 24,
   "id": "123cae7b-ecbf-430e-877a-551608b84ceb",
   "metadata": {},
   "outputs": [
    {
     "name": "stdout",
     "output_type": "stream",
     "text": [
      "The quotient is: 10.0\n",
      "Division by zero is not allowed.\n"
     ]
    }
   ],
   "source": [
    "#write a function divide_numbers that takes two numbers as aruguments and returns their quotient.Make sure to handle the case where the sound number iis 0.\n",
    "\n",
    "\n",
    "def divide_numbers(num1, num2):\n",
    "    \"\"\"Function to divide two numbers.\"\"\"\n",
    "    if num2 == 0:\n",
    "        print(\"Division by zero is not allowed.\")\n",
    "        return None\n",
    "    else:\n",
    "        return num1 / num2\n",
    "\n",
    "# Example,\n",
    "result = divide_numbers(30,3)\n",
    "print(\"The quotient is:\", result)\n",
    "\n",
    "result = divide_numbers(10,0)\n"
   ]
  },
  {
   "cell_type": "code",
   "execution_count": 23,
   "id": "a880ac77-0547-44bf-a888-72f2637c8b53",
   "metadata": {},
   "outputs": [
    {
     "name": "stdout",
     "output_type": "stream",
     "text": [
      "The average is: 22.4\n"
     ]
    }
   ],
   "source": [
    "#write a function calculate_average that takes a list of numbers as an argument and returns their aberage.\n",
    "\n",
    "def calculate_average(numbers):\n",
    "    \"\"\"Function to calculate the average of a list of numbers.\"\"\"\n",
    "    if not numbers:\n",
    "        return 0  \n",
    "    else:\n",
    "        return sum(numbers) / len(numbers)\n",
    "\n",
    "# Example,\n",
    "numbers = [2,6,25,30,49]\n",
    "average = calculate_average(numbers)\n",
    "print(\"The average is:\", average)\n"
   ]
  },
  {
   "cell_type": "code",
   "execution_count": 21,
   "id": "da65c4ea-b9fe-4485-b52e-379f81078b13",
   "metadata": {},
   "outputs": [
    {
     "name": "stdout",
     "output_type": "stream",
     "text": [
      "Is 19 prime? True\n",
      "Is 25 prime? False\n"
     ]
    }
   ],
   "source": [
    "#write a function is_prime that takes a number as an argument and returns True if the number is prime and False otherwise.\n",
    "\n",
    "\n",
    "def is_prime(number):\n",
    "    \"\"\"Function to check if a number is prime.\"\"\"\n",
    "    if number <= 1:\n",
    "        return False  \n",
    "    for i in range(2, int(number ** 0.5) + 1):\n",
    "        if number % i == 0:\n",
    "            return False\n",
    "    return True\n",
    "\n",
    "# Example,\n",
    "num = 19\n",
    "print(\"Is\", num, \"prime?\", is_prime(num))\n",
    "\n",
    "num = 25\n",
    "print(\"Is\", num, \"prime?\", is_prime(num))\n"
   ]
  },
  {
   "cell_type": "markdown",
   "id": "bec367d3-1011-496b-ad7a-dce4c22fda78",
   "metadata": {},
   "source": [
    "OOPS"
   ]
  },
  {
   "cell_type": "code",
   "execution_count": 37,
   "id": "b3f6ab48-02e3-4a2f-a231-30e354543f64",
   "metadata": {},
   "outputs": [],
   "source": [
    "#Create a class Bank with attributes name and accounts. Add methods add_account, remove_account, and get total_balance that add an account to the list, remove an account from the list, and return the total balance of all accounts, respectively\n",
    "\n",
    "\n",
    "class Bank:\n",
    "    def __init__(self, name):\n",
    "        self.name = name\n",
    "        self.accounts = []\n",
    "\n",
    "    def add_account(self, account):\n",
    "        self.accounts.append(account)\n",
    "\n",
    "    def remove_account(self, account):\n",
    "        if account in self.accounts:\n",
    "            self.accounts.remove(account)\n",
    "            print(f\"Account {account} removed successfully.\")\n",
    "        else:\n",
    "            print(\"Account not found.\")\n",
    "\n",
    "    def get_total_balance(self):\n",
    "        total_balance = sum(account.balance for account in self.accounts)\n",
    "        return total_balance\n",
    "\n",
    "\n",
    "\n"
   ]
  },
  {
   "cell_type": "code",
   "execution_count": null,
   "id": "71b7ce07-2dbd-4a10-a577-8dc2c449bc08",
   "metadata": {},
   "outputs": [],
   "source": []
  },
  {
   "cell_type": "code",
   "execution_count": null,
   "id": "22be803e-caf1-401e-84da-e230cd1ad18a",
   "metadata": {},
   "outputs": [],
   "source": []
  }
 ],
 "metadata": {
  "kernelspec": {
   "display_name": "Python 3 (ipykernel)",
   "language": "python",
   "name": "python3"
  },
  "language_info": {
   "codemirror_mode": {
    "name": "ipython",
    "version": 3
   },
   "file_extension": ".py",
   "mimetype": "text/x-python",
   "name": "python",
   "nbconvert_exporter": "python",
   "pygments_lexer": "ipython3",
   "version": "3.11.4"
  }
 },
 "nbformat": 4,
 "nbformat_minor": 5
}
